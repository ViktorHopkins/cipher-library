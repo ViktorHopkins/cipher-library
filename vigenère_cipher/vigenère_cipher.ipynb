{
 "cells": [
  {
   "cell_type": "code",
   "execution_count": 179,
   "metadata": {},
   "outputs": [],
   "source": [
    "class VigenèreCipher:\n",
    "    def __init__(self):\n",
    "        # Initialize the clear text alphabet\n",
    "        self.clear_alphabet = list(\"abcdefghijklmnopqrstuvwxyz\")\n",
    "\n",
    "    def encrypt(self, keyword, text):\n",
    "        keyword = list(keyword)\n",
    "        message = list(text)\n",
    "\n",
    "        keyword_index = 0\n",
    "        return_string = \"\"\n",
    "\n",
    "        # Loop through the message\n",
    "        for i in range(len(message)): \n",
    "            if message[i] == ' ':\n",
    "                return_string += \" \"\n",
    "                continue\n",
    "\n",
    "            keyword_char_position = 0\n",
    "\n",
    "            # Loop through the clear alphabet and find the position of the keyword character, increment the charPosition\n",
    "            for k in range(len(self.clear_alphabet)): \n",
    "                if keyword[keyword_index] == self.clear_alphabet[k]:\n",
    "                    keyword_char_position = k\n",
    "                    break\n",
    "\n",
    "            clear_char_position = 0\n",
    "\n",
    "            # Check if the message character matches a character in the clear alphabet\n",
    "            for j in range(len(self.clear_alphabet)): \n",
    "                if message[i] == self.clear_alphabet[j]:\n",
    "                    clear_char_position = j\n",
    "                    break\n",
    "\n",
    "            # Calculate the new position\n",
    "            position = (clear_char_position + keyword_char_position) % len(self.clear_alphabet)\n",
    "\n",
    "            # Get the character in the new position and append it to the result\n",
    "            encrypted_char = self.clear_alphabet[position] \n",
    "            return_string += encrypted_char\n",
    "            keyword_index += 1\n",
    "\n",
    "            # Create a \"Keywordstream\" where the keyword wraps around when it has reached its end\n",
    "            if keyword_index == len(keyword): \n",
    "                keyword_index = 0\n",
    "\n",
    "        return return_string\n",
    "\n",
    "    def decrypt(self, keyword, text):\n",
    "        keyword = list(keyword)\n",
    "        message = list(text)\n",
    "\n",
    "        keyword_index = 0\n",
    "        return_string = \"\"\n",
    "\n",
    "         # Loop through each character in the message, appending space characters\n",
    "        for i in range(len(message)):\n",
    "            if message[i] == ' ':\n",
    "                return_string += \" \"\n",
    "                continue\n",
    "\n",
    "            keyword_char_position = 0\n",
    "\n",
    "            for k in range(len(self.clear_alphabet)):\n",
    "                if keyword[keyword_index] == self.clear_alphabet[k]:\n",
    "                    keyword_char_position = k\n",
    "                    break\n",
    "\n",
    "            encrypted_char_position = 0\n",
    "\n",
    "            # Loop through the clear alphabet to find the position of the encrypted character\n",
    "            # Store the position where the encrypted character matches the clear alphabet\n",
    "            for j in range(len(self.clear_alphabet)):\n",
    "                if message[i] == self.clear_alphabet[j]:\n",
    "                    encrypted_char_position = j\n",
    "                    break\n",
    "\n",
    "            # Calculate the new position for the character in the decrypted message\n",
    "            position = (encrypted_char_position - keyword_char_position) % len(self.clear_alphabet)\n",
    "\n",
    "            # Handle the case when the position is negative by wrapping it around to the end of the alphabet\n",
    "            decrypted_char = self.clear_alphabet[position]\n",
    "            return_string += decrypted_char\n",
    "            keyword_index += 1\n",
    "\n",
    "            # Create a \"Keywordstream\" where the keyword wraps around when it has reached its end\n",
    "            if keyword_index == len(keyword):\n",
    "                keyword_index = 0\n",
    "\n",
    "        return return_string"
   ]
  },
  {
   "cell_type": "code",
   "execution_count": 180,
   "metadata": {},
   "outputs": [],
   "source": [
    "# Create an instance of the VigenereCipher class for encryption and decryption\n",
    "vigenère_cipher = VigenèreCipher()"
   ]
  },
  {
   "cell_type": "code",
   "execution_count": 181,
   "metadata": {},
   "outputs": [
    {
     "name": "stdout",
     "output_type": "stream",
     "text": [
      "Encrypted Text: issn hvaa\n",
      "Decrypted Text: your text\n"
     ]
    }
   ],
   "source": [
    "# Encrypt text\n",
    "encrypted_text = vigenère_cipher.encrypt(\"keywordhere\", str.lower(\"Your text\"))\n",
    "print(\"Encrypted Text:\", encrypted_text)\n",
    "\n",
    "# Decrypt text\n",
    "decrypted_text = vigenère_cipher.decrypt(\"keywordhere\", encrypted_text)\n",
    "print(\"Decrypted Text:\", decrypted_text)"
   ]
  }
 ],
 "metadata": {
  "kernelspec": {
   "display_name": "Python 3",
   "language": "python",
   "name": "python3"
  },
  "language_info": {
   "codemirror_mode": {
    "name": "ipython",
    "version": 3
   },
   "file_extension": ".py",
   "mimetype": "text/x-python",
   "name": "python",
   "nbconvert_exporter": "python",
   "pygments_lexer": "ipython3",
   "version": "3.11.5"
  },
  "orig_nbformat": 4
 },
 "nbformat": 4,
 "nbformat_minor": 2
}
